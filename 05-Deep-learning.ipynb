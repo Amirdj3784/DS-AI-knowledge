{
 "cells": [
  {
   "cell_type": "markdown",
   "id": "2e5a5560-2adc-4481-9ab2-44ed8e7baaad",
   "metadata": {},
   "source": [
    "---\n",
    "<h1>DeepLearning</h1>"
   ]
  },
  {
   "cell_type": "markdown",
   "id": "80d648ca-7fe6-4795-9344-c5c9b0e6b4b1",
   "metadata": {},
   "source": [
    "<p>Writer :</p><p style=\"color:blue;\">Amirhossin jamshidmotlagh</p>"
   ]
  },
  {
   "cell_type": "markdown",
   "id": "d32bf898-ec1d-4eaf-85bb-856e68075a4b",
   "metadata": {},
   "source": [
    "## Whats `Deep learning?`\n"
   ]
  },
  {
   "cell_type": "markdown",
   "id": "b21a0930-5eb6-43bb-be44-4dcf921408e4",
   "metadata": {},
   "source": [
    "### This might be a `question` that comes to your mind `first.`"
   ]
  },
  {
   "cell_type": "markdown",
   "id": "330b41fd-3e0b-4c0b-8909-5c57ce160bf1",
   "metadata": {},
   "source": [
    "<h3> in fact <span style=\"color:purple;\">deep learning</span> constitutes a significant portion of machine learning to the extent that the, \n",
    "    entirety of <span style=\"color:purple;\">machine learning</span> accounts for only about <span style=\"color:purple;\">10%</span> of an artificial intelligence project\n",
    "</h3>"
   ]
  },
  {
   "cell_type": "markdown",
   "id": "f877d82c-1c09-4d4d-bf33-9686ae23d211",
   "metadata": {},
   "source": [
    "### This `means` that it constitutes about `90%` of the` work.`"
   ]
  },
  {
   "cell_type": "markdown",
   "id": "0b92c257-1e8f-454d-9c9e-f2463ffd41f8",
   "metadata": {},
   "source": [
    "## Well, if we take `look at` the components of `deep learning`, we come across tow branches: `CV` and `NLP.`"
   ]
  },
  {
   "cell_type": "markdown",
   "id": "abd2259d-ab0f-4068-9daa-0a79e8b25f77",
   "metadata": {},
   "source": [
    " <p style=\"font-size:18px;\"> Now you might be wondering `What these` `tow branches are?` and what they are usful for?\n",
    " Well, `Lets` find out:</p>\n"
   ]
  },
  {
   "cell_type": "markdown",
   "id": "2fa51075-edcb-496a-bfbf-6b9bc316f2d7",
   "metadata": {},
   "source": [
    "<h1 style=\"color:lightblue;\">CV</h1>"
   ]
  },
  {
   "cell_type": "markdown",
   "id": "3d548017-c536-4ef9-9e1f-6e40c2872e50",
   "metadata": {},
   "source": [
    "## Let's start whit `CV.`\n",
    "## `CV`, which stance for `(Computer Vision)` involves the use artficial inteligence in `analilyzing` and `process images` and `vedeos`\n",
    "### Which includes tasks that are being performed in real-life scenarios today"
   ]
  },
  {
   "cell_type": "markdown",
   "id": "eadcbead-59a6-4012-9ab7-547d2b30ff28",
   "metadata": {},
   "source": [
    "# 1\n",
    "![1](https://fiverr-res.cloudinary.com/images/q_auto,f_auto/gigs/264738220/original/11869993eb15de836d46ccafe9910bce033fc4c7/do-machine-learning-deep-learning-cnn-and-computer-vision.png)"
   ]
  },
  {
   "cell_type": "markdown",
   "id": "56ce85f6-3d36-4bdd-813d-e4fd0c236357",
   "metadata": {},
   "source": [
    "# 2\n",
    "![](https://miro.medium.com/v2/resize:fit:1400/0*KTYqkh7jKbiYoaTI)"
   ]
  },
  {
   "cell_type": "markdown",
   "id": "eb040fc2-8573-44ed-bdda-3ced2d54e395",
   "metadata": {},
   "source": [
    "---"
   ]
  },
  {
   "cell_type": "markdown",
   "id": "490ba119-2b9e-454a-9747-f85583dc97f7",
   "metadata": {},
   "source": [
    "<h1 style=\"color:lightblue;\">NLP\n",
    "</h1>"
   ]
  },
  {
   "cell_type": "markdown",
   "id": "e5f2c934-9cd3-48db-9232-a8864a7971eb",
   "metadata": {},
   "source": [
    "## Now lets move on `NLP`"
   ]
  },
  {
   "cell_type": "markdown",
   "id": "bf707286-c492-48eb-8aa9-c58519bbd599",
   "metadata": {},
   "source": [
    "<h2> NLP stance for (Natural Language Processing) which focuses on the analysis of sound, and text, it</h2><h2> is widely used todey\n",
    " and some examples of it can be see in images blow:</h2>"
   ]
  },
  {
   "cell_type": "markdown",
   "id": "c8741713-1953-4ac2-8154-15212e7eb3fb",
   "metadata": {},
   "source": [
    "# phones\n",
    "![4](https://www.galaxys24userguide.com/wp-content/uploads/2024/02/use-voice-to-text.png)"
   ]
  },
  {
   "cell_type": "markdown",
   "id": "c1c822e2-504b-4744-963f-3bdf1a0c748e",
   "metadata": {},
   "source": [
    "<h2>alexa</h2>\n",
    "<img src=\"https://cdn.mos.cms.futurecdn.net/UradSR8HKg4KwAEFFRXFTV.jpg\" alt=\"\">"
   ]
  },
  {
   "cell_type": "markdown",
   "id": "d6541913-9532-40b7-b251-9c609d52ca4d",
   "metadata": {},
   "source": [
    "---"
   ]
  },
  {
   "cell_type": "markdown",
   "id": "15659930-a7c1-4458-8ca0-43338d2cdca5",
   "metadata": {},
   "source": [
    "## `Now`  you will become `much more` fammiliar whit the concept of these tow but so far, you have learned a brief overview of `deep learning`"
   ]
  },
  {
   "cell_type": "markdown",
   "id": "3a393cd1-b36e-4e4e-82fc-a2cbe15f06f8",
   "metadata": {},
   "source": [
    "<h2>Actually, <span style=\"color:purple;\">deep learning</span> strives to mimic human brain neurons in reconstructing them:\n",
    "</h2>"
   ]
  },
  {
   "cell_type": "markdown",
   "id": "bcb75a95-7976-44ae-95e0-6f6de4edcbd1",
   "metadata": {},
   "source": [
    "<h3>Neurons, or nerve cells, are fundamental components of the nervous system that are prominently present in our</h3> <h3>brains. These cells are interconnected through electrical connections and transmit information in the form of</h3><h3> electrical signals. Deep learning is a branch of machine learning that designs models using deep neural network</h3><h3> structures, aiming to extract and interpret hidden representations and patterns within data. This approach is inspired</h3><h3> by how neurons in the brain work, aiding in precise analysis and pattern recognition in data.</h3>\n"
   ]
  },
  {
   "cell_type": "markdown",
   "id": "11a01bab-fab4-4e9a-8fad-0ea64ba92a3d",
   "metadata": {},
   "source": [
    "<h1>Well in fact, Deep learning attempts human brain <span style=\"color:purple;\">Neuron</span></h1>"
   ]
  },
  {
   "cell_type": "markdown",
   "id": "5e36d8c4-ea72-401f-8697-14c32fc5b560",
   "metadata": {},
   "source": [
    "<h2>To better understand this statement we need to become familiar with brain neurons Blow, you can see image of <span style=\"color:purple;\">brain neuron</span></h2>\n"
   ]
  },
  {
   "cell_type": "markdown",
   "id": "b8a96d45-efb5-49f6-b0bf-61f31e9fb893",
   "metadata": {},
   "source": [
    "---"
   ]
  },
  {
   "cell_type": "markdown",
   "id": "5d572238-621f-4045-a501-a9c80abbf16b",
   "metadata": {},
   "source": [
    "# Human Brain `Neuron`"
   ]
  },
  {
   "cell_type": "markdown",
   "id": "8bfdec9f-d60e-47af-8379-a8824dcc504a",
   "metadata": {},
   "source": [
    "<h2>If we want to explain it generally brain <span style=\"color:purple;\">Neuron</span> consists of theree mai parts: Dendrites , Axon , Terminal :</h2>"
   ]
  },
  {
   "cell_type": "markdown",
   "id": "41aba95c-a1b6-429a-a5dd-bd49978eb9a9",
   "metadata": {},
   "source": [
    "![](https://openbooks.lib.msu.edu/app/uploads/sites/6/2020/11/Neuron.jpg)"
   ]
  },
  {
   "cell_type": "markdown",
   "id": "ad832a3c-c9f9-4b05-95db-166db3a397a9",
   "metadata": {},
   "source": [
    "## 1- Dendrites"
   ]
  },
  {
   "cell_type": "markdown",
   "id": "48d809f5-9afd-4c52-ae5b-5f2dedde6a71",
   "metadata": {},
   "source": [
    "### The `first` part, called `Dendrites` is resposible for receiving information and `Data`"
   ]
  },
  {
   "cell_type": "markdown",
   "id": "ef70b720-6159-41f2-aa43-770ae073ab14",
   "metadata": {},
   "source": [
    "---"
   ]
  },
  {
   "cell_type": "markdown",
   "id": "7ca621ca-b38f-48be-a163-a33e8174d39d",
   "metadata": {},
   "source": [
    "## 2- Axon"
   ]
  },
  {
   "cell_type": "markdown",
   "id": "978762da-a0f7-4381-8987-50c55cad1a1f",
   "metadata": {},
   "source": [
    "### The secound part is called `Axon` which is responsible for transmitting  `data` from `Dendrites` to the `Terminal`"
   ]
  },
  {
   "cell_type": "markdown",
   "id": "2b6b13d1-2dad-491e-8e66-4c334031153f",
   "metadata": {},
   "source": [
    "---"
   ]
  },
  {
   "cell_type": "markdown",
   "id": "41a086f3-af2c-46ef-9fc6-a5db3e06317e",
   "metadata": {},
   "source": [
    "## 3- Terminal"
   ]
  },
  {
   "cell_type": "markdown",
   "id": "d5eeeb13-8218-4701-9127-4771a47ec7de",
   "metadata": {},
   "source": [
    "### The `third` part the `(Terminal)`, which outputs the commands from the `brain` and leads to `action` Additionally this part contains new information that can be transmitted to the next neuron"
   ]
  },
  {
   "cell_type": "markdown",
   "id": "85e3a372-c404-48b8-9d10-0597f0b9dca0",
   "metadata": {},
   "source": [
    "---"
   ]
  },
  {
   "cell_type": "markdown",
   "id": "4cf293bd-b2a2-4dcb-a668-42dd713f8984",
   "metadata": {},
   "source": [
    "<h3>If we want to <span style=\"color:purple;\">reconstruct</span> a Neuron using our khowledge of <span style=\"color:purple;\">mathematics</span>, we arrive at something that represents the state of a brain neuron</h3>"
   ]
  },
  {
   "cell_type": "markdown",
   "id": "6a8ba9b4-fe85-415f-8866-1653eca460a4",
   "metadata": {},
   "source": [
    "### which you can see in the image `below`"
   ]
  },
  {
   "cell_type": "markdown",
   "id": "cc9f0d35-af6c-46f2-9c98-0e2c4ec39bbb",
   "metadata": {},
   "source": [
    "![](https://miro.medium.com/v2/resize:fit:2902/1*hkYlTODpjJgo32DoCOWN5w.png)"
   ]
  },
  {
   "cell_type": "markdown",
   "id": "f4e710c7-e892-4ba1-9a52-db2cc5c527c9",
   "metadata": {},
   "source": [
    "<h3>So, the primary model of a human brain neuron is called a <span style=\"color:purple;\">\"Biological Nueron\"</span> as seen in the images above. The mathematical model that deep learning strives to create is called an \"Artificial\" Neuron</h3>"
   ]
  },
  {
   "cell_type": "markdown",
   "id": "dd62e0fe-0f30-4729-9349-41f4522606a9",
   "metadata": {},
   "source": [
    "### Biological Neural Network or `(BNN)` :"
   ]
  },
  {
   "cell_type": "markdown",
   "id": "ffa3916b-4c20-414b-808c-6e7f0eb5feaa",
   "metadata": {},
   "source": [
    "![](https://as1.ftcdn.net/v2/jpg/03/29/16/68/1000_F_329166824_AiEJ6wdJJiasbh3AFrfJnN7NbppQBfPB.jpg)"
   ]
  },
  {
   "cell_type": "markdown",
   "id": "193c1784-fc6b-480b-a3e9-6d664b670416",
   "metadata": {},
   "source": [
    "### if we were to `show` you the fundamental structure of a neural network, it would look like this. in fact, this is a `biological neuron`. For a better reconstrucion of the structure of a neural network, the image below could be a suitable representation of an `artifical neural network`."
   ]
  },
  {
   "cell_type": "markdown",
   "id": "f2ed16a0-85b0-44a5-86eb-c72d3d719949",
   "metadata": {},
   "source": [
    "### Artifical Nueral Network or `(ANN)`:"
   ]
  },
  {
   "cell_type": "markdown",
   "id": "e4048d1d-5b67-4bc9-94ed-39a674fccb48",
   "metadata": {},
   "source": [
    "![](https://miro.medium.com/v2/resize:fit:1400/1*Gh5PS4R_A5drl5ebd_gNrg@2x.png)"
   ]
  },
  {
   "cell_type": "markdown",
   "id": "7432c18d-62dd-4c35-9252-3b540be6c0ef",
   "metadata": {},
   "source": [
    "<h3>1- The first part of an <span style=\"color:purple;\">arificial neural network</span>, known as the \"Input Layer\", functions like the Dendrites of a Biological</h3><h3> Neuron, tasked with reciving and processing  information. One point to note is that this layer is never considered</h3><h3>one of the main layers of the network. This is because it represents the input layer data that we feed into the network </h3><h3>to be processed by other parts of the starting point sor information pricessing .</h3>"
   ]
  },
  {
   "cell_type": "markdown",
   "id": "22199597-8a4f-47d3-9ad8-78fd9ca2282c",
   "metadata": {},
   "source": [
    "#### 2- The nex part is called the `\"Hidden Layer\"` which as the name suggests, is `visible`. This is why it is called \"hidden\". However, all the `main` tasks of an `Artificial Neural` network are performed in this layer."
   ]
  },
  {
   "cell_type": "markdown",
   "id": "253ac006-69bd-40be-9913-484f7d82e518",
   "metadata": {},
   "source": [
    "#### 3- The third part, called the `\"Output Layer\"` is exactly like the terminal in `Biological Neural Network``(BNN)` and serves as the output of the process. in an `Artificial Neural Network`, it is responsible for transmiting information to the next Neuron"
   ]
  },
  {
   "cell_type": "markdown",
   "id": "9623f431-5c72-40f5-bff3-7d39b3feb952",
   "metadata": {},
   "source": [
    "#### 4- Finally, the lines that connect these layers, akin to the axons in a biological neural network, are called \"weights\" in an `Artificial Neural Network` and we are denoted by `\"w\"`. This component is also responsible for transmiting information just like in a BNN"
   ]
  },
  {
   "cell_type": "markdown",
   "id": "d0c18a45-d4e6-4139-8246-9b0657043a23",
   "metadata": {},
   "source": [
    "### These are names of layers in an `ANN` Now, You might ask what the names of individual circles connected to other circles are. in programming, They are referred to as `units\"` or `\"nodes\"`"
   ]
  },
  {
   "cell_type": "markdown",
   "id": "260e23d1-735b-4f78-80aa-c61f3f2b3572",
   "metadata": {},
   "source": [
    "---"
   ]
  },
  {
   "cell_type": "markdown",
   "id": "ffebad1d-462a-45b0-b87f-f1ef0f95f486",
   "metadata": {},
   "source": [
    "## And now you understand the difference the tow Neurons we mentioned and have a better idea of what a deep learning project generally does"
   ]
  },
  {
   "cell_type": "markdown",
   "id": "34ce9940-3d09-4c7f-8901-cd1970458064",
   "metadata": {},
   "source": [
    "![](https://bernardmarr.com/img/What%20is%20an%20Artificial%20Neural%20Networks.jpg)"
   ]
  },
  {
   "cell_type": "markdown",
   "id": "764f8b29-51c6-4447-bec4-69e2e40b2692",
   "metadata": {},
   "source": [
    "---"
   ]
  },
  {
   "cell_type": "markdown",
   "id": "83d7b717-10ce-4c16-a931-3c86ee2db4f9",
   "metadata": {},
   "source": [
    "### Now that we are `familiar` with the concepts of `deep learning`, we want to examine the process of carrying out a deep learning `project` and proceed together to` explain `it more comprehensively."
   ]
  },
  {
   "cell_type": "markdown",
   "id": "b9ddf436-88f0-45e9-9d77-2a9f964393cd",
   "metadata": {},
   "source": [
    " <p style=\"font-size:20px;\"> First, there are a few points we need to mention. What is the purpose of doing an <span style=\"color:purple;\">artificial intelligence project?</span> How is this <span style=\"color:purple;\">artificial neural network constructed?</span> Which programming languages are suitable for this process and what libraries and tools do <span style=\"color:purple;\">we need to write them?</span> Let's proceed to understand the answers to these questions.</p>"
   ]
  },
  {
   "cell_type": "markdown",
   "id": "efad00ff-83da-4833-b389-7c155dce0020",
   "metadata": {},
   "source": [
    "<p style=\"font-size:20px; color:gray; \">1- Answer to the first question: What is the purpose of doing an artificial intelligence or deep <span style=\"color:purple;\">learning project?</span> In fact, the goal of an artificial intelligence project is to predict the future or address problems that might arise in the future. However, this issue depends on a few fundamental questions:</p>\n",
    "\n",
    "<p style=\"font-size:20px; color:gray; \">Is it worth the time and effort to do it?\n",
    "Do we have the necessary time and operating system for the project?\n",
    "Is this project really an artificial intelligence project or not?\n",
    "If your answers to these questions are correct, then you are indeed ready for an artificial intelligence project.\n",
    "\n",
    "</p>\n",
    "\n"
   ]
  },
  {
   "cell_type": "markdown",
   "id": "603661e5-23e3-46f1-a17b-1f5db03e91e2",
   "metadata": {},
   "source": [
    "<p style=\"font-size:20px;\">2- Answer to the second question: What is the basis for building and networking an artificial intelligence project?\n",
    "</p>\n",
    "<p style=\"font-size:20px;\">\n",
    "    Well, if we want to explain it in general, I previously mentioned that the goal of an artificial intelligence project is to predict the future, and earlier we explained that an artificial intelligence project is carried out using mathematics. So, in fact, an artificial intelligence or deep learning project uses the science of statistics and mathematics, and in a way, everything in it is composed of statistical science.\n",
    "\n",
    "\n",
    "</p>"
   ]
  },
  {
   "cell_type": "markdown",
   "id": "30f93a98-9d1f-49e0-891d-7ff2383344bc",
   "metadata": {},
   "source": [
    "<p style=\"font-size:20px; color:gray;\">3- Answer to the third question: Which programming language is good for writing an artificial intelligence project and can handle all tasks? Well, the answer to this question is that Python is one of the best choices for this purpose. This language has numerous advantages and features that make it the best choice:</p>\n",
    "\n",
    "<p style=\"font-size:18px; color:gray;\">It has a very easy and understandable syntax.\n",
    "Python itself is built on the powerful programming language C, which enhances its capabilities.\n",
    "It has very powerful libraries like NumPy, which are extremely fast and highly efficient in mathematical operations.\n",
    "Python allows easy interaction with other languages and various file formats, enhancing code usability and development. </p>"
   ]
  },
  {
   "cell_type": "markdown",
   "id": "5ec664b3-ebd6-4ee0-b26c-873da7860539",
   "metadata": {},
   "source": [
    "<p style=\"font-size:20px;\">4- For the answer to the last question, the following Python libraries are used for an artificial intelligence project:</p>\n",
    "<p style=\"font-size:18px;\">\n",
    "NumPy: For numerical and scientific operations, such as arrays and matrices.\n",
    "Pandas: For working with structured data and data analysis.\n",
    "Matplotlib and Seaborn: For plotting graphs and visualizing data.\n",
    "Keras and TensorFlow: For building and training neural networks.\n",
    "Scikit-learn: For machine learning and various machine learning algorithms.\n",
    "SymPy: For symbolic mathematics, plotting, and solving mathematical problems.\n",
    "SciPy: For advanced scientific and engineering operations, such as optimization and signal processing.\n",
    "These libraries are powerful tools used in the development and execution of artificial intelligence and machine learning projects.\n",
    "\n",
    "</p>"
   ]
  },
  {
   "cell_type": "markdown",
   "id": "eb8a3e82-00ba-453e-85fc-a3292ed4505c",
   "metadata": {},
   "source": [
    "![](https://www.unite.ai/wp-content/uploads/2022/04/AI-Python-Libraries-1000x600.png)"
   ]
  },
  {
   "cell_type": "markdown",
   "id": "8cbb835d-759c-4097-a4e8-fb33e1e702fd",
   "metadata": {},
   "source": [
    "---"
   ]
  },
  {
   "cell_type": "markdown",
   "id": "1bafa1e7-07f1-4a43-80e2-1001202b7339",
   "metadata": {},
   "source": [
    "<p style=\"font-size:22px;\"> With the knowledge you have gained so far in deep learning and artificial intelligence, you can understand the fundamentals of this field and its processes. Now is the time to comprehensively review all the topics discussed and embark on learning deep learning. Let's delve into why deep learning is so crucial in the machine learning process, constituting approximately <span style=\"color:blue;\">90% of the work.</p>"
   ]
  },
  {
   "cell_type": "markdown",
   "id": "0987f8fe-1fa8-4683-8e26-91efbac8796f",
   "metadata": {},
   "source": [
    "<p style=\"font-size:18px;\">Let me illustrate this concept with a diagram for you. In traditional machine learning, data would pass through a single hidden layer and yield a final result. However, different algorithms could encounter issues such as low accuracy or incorrect outputs.\n",
    "\n",
    "In deep learning, these issues are addressed by utilizing multiple hidden layers. Increasing the number of hidden layers can improve the algorithm training process and enhance the system's accuracy and performance.\n",
    "\n",
    "But does having a low error rate mean the algorithm is error-free? That's not accurate. While deep learning is inspired by the neurons of the human brain, even the human brain has its own errors and is not always 100% accurate.\n",
    "\n",
    "Therefore, deep learning, by adding more hidden layers to the algorithm, allows for training more complex and accurate models, but it still requires scrutiny and refinement to achieve more precise results.\n",
    "\n",
    "</p>"
   ]
  },
  {
   "cell_type": "markdown",
   "id": "ba1bb077-b096-41b1-adb9-4cd34bd65375",
   "metadata": {},
   "source": [
    "<p style=\"font-size:19px;\">You can see the difference in the image below between a simple structure of machine learning called a shallow neural network and a more complex structure that I explained to you, known as a deep neural network.</p>"
   ]
  },
  {
   "cell_type": "markdown",
   "id": "aae3878c-7486-45e5-87e4-26a769978955",
   "metadata": {},
   "source": [
    "![](https://miro.medium.com/v2/resize:fit:1400/1*P2ukL6wXmFZAoURb0qlsfw.png)"
   ]
  },
  {
   "cell_type": "markdown",
   "id": "e3a7a4af-e056-4b1b-b869-e5a9e7e206c1",
   "metadata": {},
   "source": [
    "<p style=\"font-size:20px; color:blue;\">Now that we've gone through the explanations, you should understand why this field is called deep learning</p>"
   ]
  },
  {
   "cell_type": "markdown",
   "id": "71f04f1b-d888-4b82-af3b-51511972d42f",
   "metadata": {},
   "source": [
    "<p style=\"font-size:20px;\">If we consider that our data simply moves from one node to another in an Artificial Neural Network (ANN), without any changes, there wouldn't be an algorithm capable of separating the data and providing valuable data that filters out to reach our desired output. In deep learning, these filters are called activation functions (act-f or activation functions), which perform this task for us.</p>\n",
    "<p style=\"font-size:18px;\">\n",
    "These act-f functions are essentially applied to the output of each node, allowing the neural network to operate non-linearly and learn more complex patterns. For instance, well-known activation functions include sigmoid, hyperbolic tangent (tanh), and Rectified Linear Unit (ReLU), each offering its own features and advantages, helping the network learn more effectively and make more accurate predictions.</p>\n",
    "<p style=\"font-size:18px;\">\n",
    "If you recall, I mentioned that each of these circular parts in an Artificial Neural Network (ANN) is called a node, and each node in this network plays the role of a neuron.</p>"
   ]
  },
  {
   "cell_type": "markdown",
   "id": "06b8329f-15b7-444b-997d-67b791b380a9",
   "metadata": {},
   "source": [
    "<p style=\"font-size:20px;\">"
   ]
  }
 ],
 "metadata": {
  "kernelspec": {
   "display_name": "Python 3 (ipykernel)",
   "language": "python",
   "name": "python3"
  },
  "language_info": {
   "codemirror_mode": {
    "name": "ipython",
    "version": 3
   },
   "file_extension": ".py",
   "mimetype": "text/x-python",
   "name": "python",
   "nbconvert_exporter": "python",
   "pygments_lexer": "ipython3",
   "version": "3.12.3"
  }
 },
 "nbformat": 4,
 "nbformat_minor": 5
}
