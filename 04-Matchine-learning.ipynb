{
 "cells": [
  {
   "cell_type": "markdown",
   "id": "b77d7090-d56f-41e5-a2e7-8d176cf7cd68",
   "metadata": {},
   "source": [
    "# Matchin learning"
   ]
  },
  {
   "cell_type": "markdown",
   "id": "e9f4b004-7581-4bb1-98d8-fb856aae7302",
   "metadata": {},
   "source": [
    "<p style='font-size:14px;'> Writer: <span style=\"color:blue;\">Amirhossein Jamshidmotlagh</span></p></p> "
   ]
  },
  {
   "cell_type": "markdown",
   "id": "b091df48-ecea-4186-9ae0-e78402d81b08",
   "metadata": {},
   "source": []
  },
  {
   "cell_type": "markdown",
   "id": "1e3aed02-f897-412f-8c00-affcb466d7ed",
   "metadata": {},
   "source": []
  }
 ],
 "metadata": {
  "kernelspec": {
   "display_name": "Python 3 (ipykernel)",
   "language": "python",
   "name": "python3"
  },
  "language_info": {
   "codemirror_mode": {
    "name": "ipython",
    "version": 3
   },
   "file_extension": ".py",
   "mimetype": "text/x-python",
   "name": "python",
   "nbconvert_exporter": "python",
   "pygments_lexer": "ipython3",
   "version": "3.12.3"
  }
 },
 "nbformat": 4,
 "nbformat_minor": 5
}
