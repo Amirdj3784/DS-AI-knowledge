{
 "cells": [
  {
   "cell_type": "markdown",
   "id": "b77d7090-d56f-41e5-a2e7-8d176cf7cd68",
   "metadata": {},
   "source": [
    "# Machine learning is an endless world!"
   ]
  },
  {
   "cell_type": "markdown",
   "id": "e9f4b004-7581-4bb1-98d8-fb856aae7302",
   "metadata": {},
   "source": [
    "<p style='font-size:13px;'> Writer: <span style=\"color:blue;\">Amirhossein Jamshidmotlagh</span></p></p> "
   ]
  },
  {
   "cell_type": "markdown",
   "id": "b091df48-ecea-4186-9ae0-e78402d81b08",
   "metadata": {},
   "source": [
    "\n",
    "<p style='font-size:17px;'>In fact, machine learning is not a science that can be explained on its own. Therefore, like any other science, I will explain the components that are necessary for you to understand the concept of machine learning.</p>"
   ]
  },
  {
   "cell_type": "markdown",
   "id": "1e3aed02-f897-412f-8c00-affcb466d7ed",
   "metadata": {},
   "source": [
    "<p style=\"font-size:18px;\">Let's get started:</p>"
   ]
  },
  {
   "cell_type": "markdown",
   "id": "65c33c51-845c-4be1-8d7d-eb5954bc8123",
   "metadata": {},
   "source": [
    "---"
   ]
  },
  {
   "cell_type": "markdown",
   "id": "a9e73c82-d26c-40e4-afad-aa9dea1a750a",
   "metadata": {},
   "source": [
    "![](https://aajkaviral.com/wp-content/uploads/2023/11/What-is-machine-learning-Definition-types.jpg.optimal.jpg)"
   ]
  },
  {
   "cell_type": "markdown",
   "id": "874c51ab-adce-4ac8-8911-a2f1aa0e205d",
   "metadata": {},
   "source": [
    "<p style=\"font-size:17px; color:black;\">Machine learning is a branch of artificial intelligence <strong>(AI)</strong>, which itself is a part of the broader field of data science. Machine learning involves a process from data analysis to algorithms that enable machines to learn. We will examine these stages one by one, so don't worry if you don't fully grasp my explanations right now. Let's familiarize ourselves with the basic concepts of artificial intelligence so that we can delve deeper into <strong>machine learning</strong> later on </p>"
   ]
  },
  {
   "cell_type": "markdown",
   "id": "592f76bc-6b06-4e39-a402-3f912a0726cc",
   "metadata": {},
   "source": [
    "<p style=\"font-size:17px; color:gray;\">As you may know, AI is divided into two main branches: machine learning and deep learning \n",
    "And the question that arises for us here is What is the overall process of machine learning, or in other words, how does a <strong>machine learn?</strong> "
   ]
  },
  {
   "cell_type": "markdown",
   "id": "eb287225-7e99-40cd-a527-c09e28030ee7",
   "metadata": {},
   "source": [
    "<p style=\"font-size:17px; color:black;\">In reality, the process of training a machine happens through <strong>data</strong>. However, you might not grasp what I mean. So, let me explain with a simple example:</p>"
   ]
  },
  {
   "cell_type": "markdown",
   "id": "4ff75a56-ef0e-48cd-9e26-ec5dc1628642",
   "metadata": {},
   "source": [
    "<p style=\"font-size:17px; color:gray;\"><strong>Let's think</strong> of a machine or <strong>model we've designed</strong> as a <strong>child</strong>, and the data we want to provide to the machine as similar to the instructions we give to teach a child. For example, if we want to train a child to recognize the number 9, by repeatedly explaining or showing the number 9 to them, we help them understand that this is the number 9. After some time, if you ask the child what this number is, they will recognize it as 9 and tell you."
   ]
  },
  {
   "cell_type": "markdown",
   "id": "602702f7-d5c0-4809-b601-d1a02f27989d",
   "metadata": {},
   "source": [
    "<p style=\"font-size:17px; color:black;\">The process of training a machine is also exactly like this. In fact, the main goal of artificial intelligence is to create a machine that mimics human intelligence, and to start this process, machine learning is the foundation and, in a way, the multiplication table of this field."
   ]
  },
  {
   "cell_type": "markdown",
   "id": "a59e2f8a-1d83-4aa0-9165-4b14c3f8ace9",
   "metadata": {},
   "source": [
    "---"
   ]
  },
  {
   "cell_type": "markdown",
   "id": "230c0d0d-4db4-446e-a8c4-52d212673344",
   "metadata": {},
   "source": [
    "# Data"
   ]
  },
  {
   "cell_type": "markdown",
   "id": "f1cc5bdc-592e-4427-ae69-10f260f7f1fc",
   "metadata": {},
   "source": [
    "<p style=\"color:black; font-size:18px;\">Let's familiarize ourselves with the key components and effective aspects of machine learning. As I mentioned earlier, the process of machine learning is also dependent on other areas of knowledge, and understanding these can help achieve precise application of machine learning. Our first topic, which is one of the foundational aspects of machine learning, is data-how to work with it and what data actually is, as well as other questions that may arise for you.</p>"
   ]
  },
  {
   "cell_type": "markdown",
   "id": "8b4a2926-711f-4024-b393-e9bfd461baf8",
   "metadata": {},
   "source": [
    "### Let's answer these questions."
   ]
  },
  {
   "cell_type": "markdown",
   "id": "c5831c1d-ad1a-4be9-86d0-c690451b235b",
   "metadata": {},
   "source": [
    "<p style='color:rgb(64,64,64); font-size:18px;'>In general, data science, or the understanding of data, is a vast field, and we will only focus on the parts that are relevant to machine learning and artificial intelligence. The topic of signals is expected to provide us with significant help in this context, but the field of signal processing is also very broad. We will only cover the concepts we need from this field, which will ultimately familiarize you with its core ideas. So don’t worry if you don’t understand these concepts right away."
   ]
  },
  {
   "cell_type": "markdown",
   "id": "adf15ca2-d9d1-47c7-8a1a-524b3c831b91",
   "metadata": {},
   "source": [
    "---"
   ]
  },
  {
   "cell_type": "markdown",
   "id": "d2bad640-ee0e-492a-be5a-298d9721083a",
   "metadata": {},
   "source": [
    "![](https://assets.techrepublic.com/uploads/2023/12/tr_20231215-what-is-data-science.jpg)"
   ]
  },
  {
   "cell_type": "code",
   "execution_count": null,
   "id": "a99bab5a-4d0e-4862-943c-3f73c8ceca01",
   "metadata": {},
   "outputs": [],
   "source": []
  }
 ],
 "metadata": {
  "kernelspec": {
   "display_name": "Python 3 (ipykernel)",
   "language": "python",
   "name": "python3"
  },
  "language_info": {
   "codemirror_mode": {
    "name": "ipython",
    "version": 3
   },
   "file_extension": ".py",
   "mimetype": "text/x-python",
   "name": "python",
   "nbconvert_exporter": "python",
   "pygments_lexer": "ipython3",
   "version": "3.11.6"
  }
 },
 "nbformat": 4,
 "nbformat_minor": 5
}
